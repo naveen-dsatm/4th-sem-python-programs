{
 "cells": [
  {
   "cell_type": "code",
   "execution_count": null,
   "metadata": {},
   "outputs": [],
   "source": [
    "def roman2Dec(romStr):\n",
    "    roman_dict = {'I': 1, 'V': 5, 'X': 10, 'L': 50, 'C': 100, 'D': 500, 'M': 1000}\n",
    "    romanBack = list(romStr)[::-1]\n",
    "    value = 0\n",
    "    rightVal = roman_dict[romanBack[0]]\n",
    "    \n",
    "    for numeral in romanBack:\n",
    "        leftVal = roman_dict[numeral]\n",
    "        \n",
    "        if leftVal < rightVal:\n",
    "            value -= leftVal\n",
    "        else:\n",
    "            value += leftVal\n",
    "        \n",
    "        rightVal = leftVal\n",
    "    \n",
    "    return value\n",
    "\n",
    "romanStr = input(\"Enter a Roman Number: \")\n",
    "print(roman2Dec(romanStr))\n"
   ]
  }
 ],
 "metadata": {
  "language_info": {
   "name": "python"
  },
  "orig_nbformat": 4
 },
 "nbformat": 4,
 "nbformat_minor": 2
}
