{
 "cells": [
  {
   "cell_type": "code",
   "execution_count": null,
   "metadata": {},
   "outputs": [],
   "source": [
    "class PaliStr:\n",
    "    def __init__(self):\n",
    "        self.isPali = False\n",
    "    \n",
    "    def chkPalindrome(self, myStr):\n",
    "        if myStr == myStr[::-1]:\n",
    "            self.isPali = True\n",
    "        else:\n",
    "            self.isPali = False\n",
    "        return self.isPali\n",
    "\n",
    "class PaliInt(PaliStr):\n",
    "    def __init__(self):\n",
    "        self.isPali = False\n",
    "    \n",
    "    def chkPalindrome(self, val):\n",
    "        temp = val\n",
    "        rev = 0\n",
    "        while temp != 0:\n",
    "            dig = temp % 10\n",
    "            rev = (rev * 10) + dig\n",
    "            temp = temp // 10\n",
    "        if val == rev:\n",
    "            self.isPali = True\n",
    "        else:\n",
    "            self.isPali = False\n",
    "        return self.isPali\n",
    "\n",
    "st = input(\"Enter a string : \")\n",
    "stObj = PaliStr()\n",
    "if stObj.chkPalindrome(st):\n",
    "    print(\"Given string is a Palindrome\")\n",
    "else:\n",
    "    print(\"Given string is not a Palindrome\")\n",
    "\n",
    "val = int(input(\"Enter an integer : \"))\n",
    "intObj = PaliInt()\n",
    "if intObj.chkPalindrome(val):\n",
    "    print(\"Given integer is a Palindrome\")\n",
    "else:\n",
    "    print(\"Given integer is not a Palindrome\")\n"
   ]
  }
 ],
 "metadata": {
  "language_info": {
   "name": "python"
  },
  "orig_nbformat": 4
 },
 "nbformat": 4,
 "nbformat_minor": 2
}
