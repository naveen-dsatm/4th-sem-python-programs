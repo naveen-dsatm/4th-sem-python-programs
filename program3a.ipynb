{
 "cells": [
  {
   "cell_type": "code",
   "execution_count": null,
   "metadata": {},
   "outputs": [],
   "source": [
    "sentence = input(\"Enter a sentence : \")\n",
    "wordList = sentence.split(\" \")\n",
    "print(\"This sentence has\", len(wordList), \"words\")\n",
    "digCnt = upCnt = loCnt = 0\n",
    "for ch in sentence:\n",
    " if '0' <= ch <= '9':\n",
    " digCnt += 1\n",
    " elif 'A' <= ch <= 'Z':\n",
    " upCnt += 1\n",
    " elif 'a' <= ch <= 'z':\n",
    " loCnt += 1\n",
    "print(\"This sentence has\", digCnt, \"digits\", upCnt, \"upper case letters\", loCnt, \n",
    "\"lower case letters\")\n"
   ]
  }
 ],
 "metadata": {
  "language_info": {
   "name": "python"
  },
  "orig_nbformat": 4
 },
 "nbformat": 4,
 "nbformat_minor": 2
}
