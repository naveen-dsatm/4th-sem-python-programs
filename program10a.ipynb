{
 "cells": [
  {
   "cell_type": "code",
   "execution_count": null,
   "metadata": {},
   "outputs": [],
   "source": [
    "from PyPDF2 import PdfWriter, PdfReader\n",
    "\n",
    "num = int(input(\"Enter page number you want to combine from multiple documents: \"))\n",
    "pdf1 = open('birds.pdf', 'rb')\n",
    "pdf2 = open('birdspic.pdf', 'rb')\n",
    "\n",
    "pdf_writer = PdfWriter()\n",
    "pdf1_reader = PdfReader(pdf1)\n",
    "page = pdf1_reader.pages[num - 1]\n",
    "pdf_writer.add_page(page)\n",
    "pdf2_reader = PdfReader(pdf2)\n",
    "page = pdf2_reader.pages[num - 1]\n",
    "pdf_writer.add_page(page)\n",
    "\n",
    "with open('output.pdf', 'wb') as output:\n",
    "    pdf_writer.write(output)\n"
   ]
  }
 ],
 "metadata": {
  "language_info": {
   "name": "python"
  },
  "orig_nbformat": 4
 },
 "nbformat": 4,
 "nbformat_minor": 2
}
