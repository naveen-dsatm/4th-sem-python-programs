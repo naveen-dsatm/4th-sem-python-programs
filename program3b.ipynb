{
 "cells": [
  {
   "cell_type": "code",
   "execution_count": null,
   "metadata": {},
   "outputs": [],
   "source": [
    "str1 = input(\"Enter String 1 \\n\")\n",
    "str2 = input(\"Enter String 2 \\n\")\n",
    "if len(str2) < len(str1):\n",
    " short = len(str2)\n",
    " long = len(str1)\n",
    "else:\n",
    " short = len(str1)\n",
    " long = len(str2)\n",
    " \n",
    "matchCnt = 0\n",
    "for i in range(short):\n",
    " if str1[i] == str2[i]:\n",
    " matchCnt += 1\n",
    "print(\"Similarity between two said strings:\")\n",
    "print(matchCnt/long)"
   ]
  }
 ],
 "metadata": {
  "language_info": {
   "name": "python"
  },
  "orig_nbformat": 4
 },
 "nbformat": 4,
 "nbformat_minor": 2
}
