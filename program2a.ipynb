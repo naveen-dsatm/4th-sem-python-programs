{
 "cells": [
  {
   "cell_type": "code",
   "execution_count": null,
   "metadata": {},
   "outputs": [],
   "source": [
    "def fn(n):\n",
    " if n == 1:\n",
    "    return 0\n",
    "    elif n == 2:\n",
    "    return 1\n",
    "    else:\n",
    "    return fn(n-1) + fn(n-2)\n",
    " \n",
    "num = int(input(\"Enter a number : \"))\n",
    "if num > 0:\n",
    " print(\"fn(\", num, \") = \",fn(num) , sep =\"\")\n",
    "else:\n",
    " print(\"Error in input\")\n"
   ]
  }
 ],
 "metadata": {
  "language_info": {
   "name": "python"
  },
  "orig_nbformat": 4
 },
 "nbformat": 4,
 "nbformat_minor": 2
}
