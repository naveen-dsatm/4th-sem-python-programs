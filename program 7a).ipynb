{
 "cells": [
  {
   "cell_type": "code",
   "execution_count": null,
   "metadata": {},
   "outputs": [],
   "source": [
    "import math\n",
    "class Shape:\n",
    "    def __init__(self):\n",
    "        self.area = 0\n",
    "        self.name = \"\"\n",
    "    def showArea(self):\n",
    "        print(\"The area of the\", self.name, \"is\", self.area, \"units\")\n",
    "class Circle(Shape):\n",
    "    def __init__(self, radius):\n",
    "        self.area = 0\n",
    "        self.name = \"Circle\"\n",
    "        self.radius = radius\n",
    "    def calcArea(self):\n",
    "        self.area = math.pi * self.radius * self.radius\n",
    "class Rectangle(Shape):\n",
    "    def __init__(self, length, breadth):\n",
    "        self.area = 0\n",
    "        self.name = \"Rectangle\"\n",
    "        self.length = length\n",
    "        self.breadth = breadth\n",
    "    def calcArea(self):\n",
    "        self.area = self.length * self.breadth\n",
    "class Triangle(Shape):\n",
    "    def __init__(self, base, height):\n",
    "        self.area = 0\n",
    "        self.name = \"Triangle\"\n",
    "        self.base = base\n",
    "        self.height = height\n",
    "    def calcArea(self):\n",
    "        self.area = self.base * self.height / 2\n",
    "c1 = Circle(5)\n",
    "c1.calcArea()\n",
    "c1.showArea()\n",
    "r1 = Rectangle(5, 4)\n",
    "r1.calcArea()\n",
    "r1.showArea()\n",
    "t1 = Triangle(3, 4)\n",
    "t1.calcArea()\n",
    "t1.showArea()\n"
   ]
  }
 ],
 "metadata": {
  "language_info": {
   "name": "python"
  },
  "orig_nbformat": 4
 },
 "nbformat": 4,
 "nbformat_minor": 2
}
