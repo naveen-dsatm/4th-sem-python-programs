{
 "cells": [
  {
   "cell_type": "code",
   "execution_count": null,
   "metadata": {},
   "outputs": [],
   "source": [
    "def bin2Dec(val):\n",
    " rev=val[::-1]\n",
    " dec = 0\n",
    " i = 0\n",
    " for dig in rev:\n",
    " dec += int(dig) * 2**i\n",
    " i += 1\n",
    " \n",
    " return dec\n",
    "def oct2Hex(val):\n",
    " rev=val[::-1]\n",
    " dec = 0\n",
    " i = 0\n",
    " for dig in rev:\n",
    " dec += int(dig) * 8**i\n",
    " i += 1\n",
    " list=[]\n",
    " while dec != 0:\n",
    " list.append(dec%16)\n",
    " dec = dec // 16\n",
    "8\n",
    " \n",
    " nl=[]\n",
    " for elem in list[::-1]:\n",
    " if elem <= 9:\n",
    " nl.append(str(elem))\n",
    " else:\n",
    " nl.append(chr(ord('A') + (elem -10)))\n",
    " hex = \"\".join(nl)\n",
    " \n",
    " return hex\n",
    "num1 = input(\"Enter a binary number : \") \n",
    "print(bin2Dec(num1))\n",
    "num2 = input(\"Enter a octal number : \")\n",
    "print(oct2Hex(num2))"
   ]
  }
 ],
 "metadata": {
  "language_info": {
   "name": "python"
  },
  "orig_nbformat": 4
 },
 "nbformat": 4,
 "nbformat_minor": 2
}
